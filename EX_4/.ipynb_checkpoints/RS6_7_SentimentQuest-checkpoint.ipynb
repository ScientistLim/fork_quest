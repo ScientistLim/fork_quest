{
 "cells": [
  {
   "cell_type": "markdown",
   "id": "3aae8ef7",
   "metadata": {},
   "source": [
    "# 7: Quest: Sentiment Analysis \n",
    "### Author: Jiwon Kim"
   ]
  },
  {
   "cell_type": "code",
   "execution_count": 1,
   "id": "3a9832bf",
   "metadata": {},
   "outputs": [
    {
     "name": "stdout",
     "output_type": "stream",
     "text": [
      "1.3.3\n",
      "0.5.2\n",
      "4.1.2\n"
     ]
    }
   ],
   "source": [
    "import konlpy\n",
    "import gensim\n",
    "\n",
    "print(konlpy.__version__)\n",
    "print(gensim.__version__)\n",
    "from konlpy.tag import Mecab\n",
    "import numpy as np\n",
    "from collections import Counter"
   ]
  },
  {
   "cell_type": "code",
   "execution_count": 32,
   "id": "b41704d8",
   "metadata": {},
   "outputs": [],
   "source": [
    "import re\n",
    "import pandas as pd\n",
    "import numpy as np\n",
    "import matplotlib.pyplot as plt\n",
    "from sklearn.model_selection import train_test_split\n",
    "from tensorflow.keras.preprocessing.text import Tokenizer\n",
    "from tensorflow.keras.preprocessing.sequence import pad_sequences"
   ]
  },
  {
   "cell_type": "code",
   "execution_count": 21,
   "id": "76e2011f",
   "metadata": {},
   "outputs": [],
   "source": [
    "import tensorflow as tf\n",
    "import os"
   ]
  },
  {
   "cell_type": "code",
   "execution_count": 2,
   "id": "94623eec",
   "metadata": {},
   "outputs": [
    {
     "data": {
      "text/html": [
       "<div>\n",
       "<style scoped>\n",
       "    .dataframe tbody tr th:only-of-type {\n",
       "        vertical-align: middle;\n",
       "    }\n",
       "\n",
       "    .dataframe tbody tr th {\n",
       "        vertical-align: top;\n",
       "    }\n",
       "\n",
       "    .dataframe thead th {\n",
       "        text-align: right;\n",
       "    }\n",
       "</style>\n",
       "<table border=\"1\" class=\"dataframe\">\n",
       "  <thead>\n",
       "    <tr style=\"text-align: right;\">\n",
       "      <th></th>\n",
       "      <th>id</th>\n",
       "      <th>document</th>\n",
       "      <th>label</th>\n",
       "    </tr>\n",
       "  </thead>\n",
       "  <tbody>\n",
       "    <tr>\n",
       "      <th>0</th>\n",
       "      <td>9976970</td>\n",
       "      <td>아 더빙.. 진짜 짜증나네요 목소리</td>\n",
       "      <td>0</td>\n",
       "    </tr>\n",
       "    <tr>\n",
       "      <th>1</th>\n",
       "      <td>3819312</td>\n",
       "      <td>흠...포스터보고 초딩영화줄....오버연기조차 가볍지 않구나</td>\n",
       "      <td>1</td>\n",
       "    </tr>\n",
       "    <tr>\n",
       "      <th>2</th>\n",
       "      <td>10265843</td>\n",
       "      <td>너무재밓었다그래서보는것을추천한다</td>\n",
       "      <td>0</td>\n",
       "    </tr>\n",
       "    <tr>\n",
       "      <th>3</th>\n",
       "      <td>9045019</td>\n",
       "      <td>교도소 이야기구먼 ..솔직히 재미는 없다..평점 조정</td>\n",
       "      <td>0</td>\n",
       "    </tr>\n",
       "    <tr>\n",
       "      <th>4</th>\n",
       "      <td>6483659</td>\n",
       "      <td>사이몬페그의 익살스런 연기가 돋보였던 영화!스파이더맨에서 늙어보이기만 했던 커스틴 ...</td>\n",
       "      <td>1</td>\n",
       "    </tr>\n",
       "  </tbody>\n",
       "</table>\n",
       "</div>"
      ],
      "text/plain": [
       "         id                                           document  label\n",
       "0   9976970                                아 더빙.. 진짜 짜증나네요 목소리      0\n",
       "1   3819312                  흠...포스터보고 초딩영화줄....오버연기조차 가볍지 않구나      1\n",
       "2  10265843                                  너무재밓었다그래서보는것을추천한다      0\n",
       "3   9045019                      교도소 이야기구먼 ..솔직히 재미는 없다..평점 조정      0\n",
       "4   6483659  사이몬페그의 익살스런 연기가 돋보였던 영화!스파이더맨에서 늙어보이기만 했던 커스틴 ...      1"
      ]
     },
     "execution_count": 2,
     "metadata": {},
     "output_type": "execute_result"
    }
   ],
   "source": [
    "import pandas as pd\n",
    "print(pd.__version__)\n",
    "train_data = pd.read_table('~/aiffel/sentiment_classification/data/ratings_train.txt')\n",
    "test_data = pd.read_table('~/aiffel/sentiment_classification/data/ratings_test.txt')\n",
    "\n",
    "train_data.head()"
   ]
  },
  {
   "cell_type": "code",
   "execution_count": 3,
   "id": "1209d748",
   "metadata": {},
   "outputs": [],
   "source": [
    "tokenizer = Mecab() # initialize Mecab from konlpy\n",
    "stopwords = ['의','가','이','은','들','는','좀','잘','걍','과','도','를','으로','자','에','와','한','하다']\n",
    "\n",
    "def load_data(train_data, test_data, num_words=10e3):\n",
    "    # [[YOUR CODE]]\n",
    "    train_data.drop_duplicates(subset=['document'], inplace=True)\n",
    "    train_data = train_data.dropna(how = 'any') \n",
    "    test_data.drop_duplicates(subset=['document'], inplace=True)\n",
    "    test_data = test_data.dropna(how = 'any') \n",
    "    \n",
    "    X_train = []\n",
    "    for sentence in train_data['document']:\n",
    "        temp_X = tokenizer.morphs(sentence) # Tokenize - sentence into words\n",
    "        temp_X = [word for word in temp_X if not word in stopwords] # 불용어 제거\n",
    "        X_train.append(temp_X)\n",
    "\n",
    "    X_test = []\n",
    "    for sentence in test_data['document']:\n",
    "        temp_X = tokenizer.morphs(sentence) # tokenizer \n",
    "        temp_X = [word for word in temp_X if not word in stopwords] # 불용어 제거\n",
    "        X_test.append(temp_X)\n",
    "    \n",
    "    words = np.concatenate(X_train).tolist() # many lists of korean words into ling list \n",
    "    counter = Counter(words) # count the frequency\n",
    "    counter = counter.most_common(10000-4)\n",
    "    vocab = ['', '', '', ''] + [key for key, _ in counter]\n",
    "    word_to_index = {word:index for index, word in enumerate(vocab)}\n",
    "        \n",
    "    def wordlist_to_indexlist(wordlist):\n",
    "        return [word_to_index[word] if word in word_to_index else word_to_index[''] for word in wordlist]\n",
    "        \n",
    "    X_train = list(map(wordlist_to_indexlist, X_train))\n",
    "    X_test = list(map(wordlist_to_indexlist, X_test))\n",
    "        \n",
    "    return X_train, np.array(list(train_data['label'])), X_test, np.array(list(test_data['label'])), word_to_index\n",
    "    \n",
    "\n",
    "X_train, y_train, X_test, y_test, word_to_index = load_data(train_data, test_data)"
   ]
  },
  {
   "cell_type": "code",
   "execution_count": 4,
   "id": "5257b70d",
   "metadata": {},
   "outputs": [],
   "source": [
    "index_to_word = {index:word for word, index in word_to_index.items()}"
   ]
  },
  {
   "cell_type": "code",
   "execution_count": 5,
   "id": "6816d829",
   "metadata": {},
   "outputs": [
    {
     "data": {
      "text/plain": [
       "{3: '',\n",
       " 4: '.',\n",
       " 5: '영화',\n",
       " 6: '다',\n",
       " 7: '고',\n",
       " 8: '하',\n",
       " 9: '을',\n",
       " 10: '보',\n",
       " 11: '..',\n",
       " 12: '게',\n",
       " 13: ',',\n",
       " 14: '!',\n",
       " 15: '지',\n",
       " 16: '있',\n",
       " 17: '없',\n",
       " 18: '?',\n",
       " 19: '좋',\n",
       " 20: '나',\n",
       " 21: '었',\n",
       " 22: '만',\n",
       " 23: '는데',\n",
       " 24: '너무',\n",
       " 25: '봤',\n",
       " 26: '적',\n",
       " 27: '안',\n",
       " 28: '정말',\n",
       " 29: '로',\n",
       " 30: '음',\n",
       " 31: '것',\n",
       " 32: '아',\n",
       " 33: '네요',\n",
       " 34: '재밌',\n",
       " 35: '어',\n",
       " 36: '같',\n",
       " 37: '점',\n",
       " 38: '지만',\n",
       " 39: '진짜',\n",
       " 40: '했',\n",
       " 41: '에서',\n",
       " 42: '기',\n",
       " 43: '네',\n",
       " 44: '않',\n",
       " 45: '거',\n",
       " 46: '았',\n",
       " 47: '수',\n",
       " 48: '되',\n",
       " 49: '면',\n",
       " 50: 'ㅋㅋ',\n",
       " 51: '말',\n",
       " 52: '연기',\n",
       " 53: '인',\n",
       " 54: '주',\n",
       " 55: '내',\n",
       " 56: '최고',\n",
       " 57: '~',\n",
       " 58: '평점',\n",
       " 59: '이런',\n",
       " 60: '던',\n",
       " 61: '어요',\n",
       " 62: '할',\n",
       " 63: '왜',\n",
       " 64: '겠',\n",
       " 65: '1',\n",
       " 66: '스토리',\n",
       " 67: '해',\n",
       " 68: '습니다',\n",
       " 69: 'ㅋㅋㅋ',\n",
       " 70: '...',\n",
       " 71: '드라마',\n",
       " 72: '생각',\n",
       " 73: '아니',\n",
       " 74: '더',\n",
       " 75: '그',\n",
       " 76: '싶',\n",
       " 77: '사람',\n",
       " 78: '듯',\n",
       " 79: '때',\n",
       " 80: '감동',\n",
       " 81: '함',\n",
       " 82: '배우',\n",
       " 83: '본',\n",
       " 84: '까지',\n",
       " 85: '뭐',\n",
       " 86: '알',\n",
       " 87: '만들',\n",
       " 88: '내용',\n",
       " 89: '볼',\n",
       " 90: '감독',\n",
       " 91: '보다',\n",
       " 92: '라',\n",
       " 93: '그냥',\n",
       " 94: '재미',\n",
       " 95: '시간',\n",
       " 96: '지루',\n",
       " 97: '중',\n",
       " 98: '재미있',\n",
       " 99: '년',\n",
       " 100: '10',\n",
       " 101: '였',\n",
       " 102: '잼',\n",
       " 103: '사랑',\n",
       " 104: '못',\n",
       " 105: '냐',\n",
       " 106: '재미없',\n",
       " 107: '쓰레기',\n",
       " 108: '서',\n",
       " 109: '2',\n",
       " 110: '라고',\n",
       " 111: '야',\n",
       " 112: '니',\n",
       " 113: '면서',\n",
       " 114: '번',\n",
       " 115: '다시',\n",
       " 116: '나오',\n",
       " 117: '작품',\n",
       " 118: '이거',\n",
       " 119: '하나',\n",
       " 120: '줄',\n",
       " 121: '해서',\n",
       " 122: '개',\n",
       " 123: '남',\n",
       " 124: '정도',\n",
       " 125: '마지막',\n",
       " 126: '끝',\n",
       " 127: '이건',\n",
       " 128: '액션',\n",
       " 129: '임',\n",
       " 130: 'ㅋ',\n",
       " 131: '3',\n",
       " 132: '기대',\n",
       " 133: '입니다',\n",
       " 134: '건',\n",
       " 135: '라는',\n",
       " 136: '분',\n",
       " 137: '완전',\n",
       " 138: '다는',\n",
       " 139: '참',\n",
       " 140: '많',\n",
       " 141: '처음',\n",
       " 142: '장면',\n",
       " 143: '대',\n",
       " 144: '아깝',\n",
       " 145: '다가',\n",
       " 146: '으면',\n",
       " 147: '지금',\n",
       " 148: '모르',\n",
       " 149: '이렇게',\n",
       " 150: \"'\",\n",
       " 151: '편',\n",
       " 152: '일',\n",
       " 153: '돈',\n",
       " 154: '이게',\n",
       " 155: '성',\n",
       " 156: '느낌',\n",
       " 157: '시',\n",
       " 158: '이야기',\n",
       " 159: '최악',\n",
       " 160: '된',\n",
       " 161: '봐도',\n",
       " 162: '님',\n",
       " 163: '어서',\n",
       " 164: '애',\n",
       " 165: '전',\n",
       " 166: '넘',\n",
       " 167: 'ㅠㅠ',\n",
       " 168: '인데',\n",
       " 169: '다고',\n",
       " 170: '이해',\n",
       " 171: '별로',\n",
       " 172: '그리고',\n",
       " 173: '명작',\n",
       " 174: '여자',\n",
       " 175: '^^',\n",
       " 176: '역시',\n",
       " 177: '난',\n",
       " 178: '이상',\n",
       " 179: '또',\n",
       " 180: '걸',\n",
       " 181: '한국',\n",
       " 182: '는지',\n",
       " 183: '많이',\n",
       " 184: '에게',\n",
       " 185: '부터',\n",
       " 186: '만든',\n",
       " 187: '주인공',\n",
       " 188: '받',\n",
       " 189: '합니다',\n",
       " 190: '우리',\n",
       " 191: '두',\n",
       " 192: '살',\n",
       " 193: '!!',\n",
       " 194: '길',\n",
       " 195: '엔',\n",
       " 196: '괜찮',\n",
       " 197: '기억',\n",
       " 198: '연출',\n",
       " 199: '한다',\n",
       " 200: '때문',\n",
       " 201: '이나',\n",
       " 202: 'ㅎㅎ',\n",
       " 203: '요',\n",
       " 204: '저',\n",
       " 205: '재',\n",
       " 206: '꼭',\n",
       " 207: '랑',\n",
       " 208: '며',\n",
       " 209: '현실',\n",
       " 210: '긴',\n",
       " 211: 'ㅡㅡ',\n",
       " 212: '무슨',\n",
       " 213: '내내',\n",
       " 214: '결말',\n",
       " 215: '죽',\n",
       " 216: '남자',\n",
       " 217: '세요',\n",
       " 218: '전개',\n",
       " 219: '마음',\n",
       " 220: '소재',\n",
       " 221: '속',\n",
       " 222: '공포',\n",
       " 223: '아서',\n",
       " 224: '다른',\n",
       " 225: '씨',\n",
       " 226: '인생',\n",
       " 227: '~~',\n",
       " 228: '짜증',\n",
       " 229: '짱',\n",
       " 230: '뿐',\n",
       " 231: '은데',\n",
       " 232: '별',\n",
       " 233: '아요',\n",
       " 234: '유치',\n",
       " 235: '가장',\n",
       " 236: '필요',\n",
       " 237: '음악',\n",
       " 238: ')',\n",
       " 239: '일본',\n",
       " 240: '낮',\n",
       " 241: '아이',\n",
       " 242: ';;',\n",
       " 243: '오',\n",
       " 244: '반전',\n",
       " 245: '수준',\n",
       " 246: '다니',\n",
       " 247: '웃',\n",
       " 248: '매력',\n",
       " 249: '맞',\n",
       " 250: '인지',\n",
       " 251: '가슴',\n",
       " 252: '없이',\n",
       " 253: '원작',\n",
       " 254: 'ㄷ',\n",
       " 255: '인간',\n",
       " 256: '데',\n",
       " 257: '굿',\n",
       " 258: 'ㅠ',\n",
       " 259: '높',\n",
       " 260: '밋',\n",
       " 261: '(',\n",
       " 262: '만드',\n",
       " 263: '급',\n",
       " 264: '눈물',\n",
       " 265: '보여',\n",
       " 266: '준',\n",
       " 267: '찍',\n",
       " 268: '인가',\n",
       " 269: '노',\n",
       " 270: '을까',\n",
       " 271: '용',\n",
       " 272: '코미디',\n",
       " 273: '마',\n",
       " 274: '화',\n",
       " 275: '신',\n",
       " 276: '모든',\n",
       " 277: '쓰',\n",
       " 278: '여',\n",
       " 279: '5',\n",
       " 280: '아직',\n",
       " 281: '추천',\n",
       " 282: '처럼',\n",
       " 283: '눈',\n",
       " 284: '아닌',\n",
       " 285: '자체',\n",
       " 286: '울',\n",
       " 287: '몰입',\n",
       " 288: '4',\n",
       " 289: '대박',\n",
       " 290: '몇',\n",
       " 291: '스럽',\n",
       " 292: '실망',\n",
       " 293: '는다',\n",
       " 294: '대한',\n",
       " 295: '죠',\n",
       " 296: '란',\n",
       " 297: '그런',\n",
       " 298: '솔직히',\n",
       " 299: '캐릭터',\n",
       " 300: 'ㅎ',\n",
       " 301: '모두',\n",
       " 302: '아주',\n",
       " 303: '-',\n",
       " 304: '가족',\n",
       " 305: '여운',\n",
       " 306: '건지',\n",
       " 307: '전혀',\n",
       " 308: '연기력',\n",
       " 309: '나라',\n",
       " 310: '후',\n",
       " 311: '될',\n",
       " 312: '다면',\n",
       " 313: '뭔가',\n",
       " 314: '그래도',\n",
       " 315: ';',\n",
       " 316: '시리즈',\n",
       " 317: '근데',\n",
       " 318: '작',\n",
       " 319: '표현',\n",
       " 320: '모습',\n",
       " 321: '공감',\n",
       " 322: '계속',\n",
       " 323: '먹',\n",
       " 324: '\"\"',\n",
       " 325: '제목',\n",
       " 326: '7',\n",
       " 327: '이랑',\n",
       " 328: '극장',\n",
       " 329: '치',\n",
       " 330: '비',\n",
       " 331: '이걸',\n",
       " 332: '진',\n",
       " 333: '바',\n",
       " 334: '대사',\n",
       " 335: '부분',\n",
       " 336: '그렇',\n",
       " 337: '개봉',\n",
       " 338: '0',\n",
       " 339: 'OO',\n",
       " 340: '대단',\n",
       " 341: '어디',\n",
       " 342: '작가',\n",
       " 343: '된다',\n",
       " 344: '아쉽',\n",
       " 345: '기분',\n",
       " 346: '제',\n",
       " 347: '진심',\n",
       " 348: '타임',\n",
       " 349: '/',\n",
       " 350: '웃기',\n",
       " 351: '보이',\n",
       " 352: '놓',\n",
       " 353: '해도',\n",
       " 354: '이제',\n",
       " 355: '물',\n",
       " 356: '봐야',\n",
       " 357: '막장',\n",
       " 358: '삶',\n",
       " 359: '친구',\n",
       " 360: '잔잔',\n",
       " 361: '조금',\n",
       " 362: '씬',\n",
       " 363: '딱',\n",
       " 364: '영상',\n",
       " 365: '억지',\n",
       " 366: '찾',\n",
       " 367: '요즘',\n",
       " 368: '같이',\n",
       " 369: '중간',\n",
       " 370: '\"',\n",
       " 371: '구',\n",
       " 372: '라도',\n",
       " 373: '스릴러',\n",
       " 374: '가지',\n",
       " 375: '8',\n",
       " 376: '믿',\n",
       " 377: '싫',\n",
       " 378: '....',\n",
       " 379: '나왔',\n",
       " 380: '아까운',\n",
       " 381: '긴장감',\n",
       " 382: '점수',\n",
       " 383: '개인',\n",
       " 384: '제대로',\n",
       " 385: '부족',\n",
       " 386: '이유',\n",
       " 387: '노래',\n",
       " 388: '만큼',\n",
       " 389: '라면',\n",
       " 390: '시작',\n",
       " 391: '구나',\n",
       " 392: '잇',\n",
       " 393: '특히',\n",
       " 394: '한테',\n",
       " 395: '날',\n",
       " 396: '려고',\n",
       " 397: '제일',\n",
       " 398: '아름다운',\n",
       " 399: '시대',\n",
       " 400: 'ㅜㅜ',\n",
       " 401: '어떻게',\n",
       " 402: '엔딩',\n",
       " 403: '당시',\n",
       " 404: '하지만',\n",
       " 405: '나름',\n",
       " 406: '봐',\n",
       " 407: '무섭',\n",
       " 408: '나온',\n",
       " 409: '명',\n",
       " 410: '사',\n",
       " 411: '니까',\n",
       " 412: '오랜만',\n",
       " 413: '이것',\n",
       " 414: '해요',\n",
       " 415: '9',\n",
       " 416: '팬',\n",
       " 417: '차라리',\n",
       " 418: '절대',\n",
       " 419: '세상',\n",
       " 420: '세',\n",
       " 421: '못하',\n",
       " 422: '의미',\n",
       " 423: '던데',\n",
       " 424: '봄',\n",
       " 425: '욕',\n",
       " 426: '훌륭',\n",
       " 427: '너무나',\n",
       " 428: '강추',\n",
       " 429: '감',\n",
       " 430: '됨',\n",
       " 431: 'ㅡ',\n",
       " 432: '따뜻',\n",
       " 433: '빼',\n",
       " 434: '느끼',\n",
       " 435: '해야',\n",
       " 436: '드',\n",
       " 437: '도대체',\n",
       " 438: '어야',\n",
       " 439: '답답',\n",
       " 440: '마다',\n",
       " 441: '준다',\n",
       " 442: '글',\n",
       " 443: '전쟁',\n",
       " 444: '놈',\n",
       " 445: '설정',\n",
       " 446: '무엇',\n",
       " 447: '수작',\n",
       " 448: '만화',\n",
       " 449: '흥미',\n",
       " 450: '그저',\n",
       " 451: '감정',\n",
       " 452: '미국',\n",
       " 453: '신선',\n",
       " 454: '행복',\n",
       " 455: '뻔',\n",
       " 456: '형',\n",
       " 457: '앞',\n",
       " 458: '허접',\n",
       " 459: '어도',\n",
       " 460: '군',\n",
       " 461: '시절',\n",
       " 462: '관객',\n",
       " 463: '배경',\n",
       " 464: '6',\n",
       " 465: '초반',\n",
       " 466: '사실',\n",
       " 467: '웃음',\n",
       " 468: '답',\n",
       " 469: '엄청',\n",
       " 470: '더라',\n",
       " 471: '라니',\n",
       " 472: '질',\n",
       " 473: '자신',\n",
       " 474: '추억',\n",
       " 475: '캐스팅',\n",
       " 476: '첨',\n",
       " 477: '멋있',\n",
       " 478: '류',\n",
       " 479: '어색',\n",
       " 480: '시나리오',\n",
       " 481: '머',\n",
       " 482: '밖에',\n",
       " 483: 'OOO',\n",
       " 484: '슬프',\n",
       " 485: '정신',\n",
       " 486: '분위기',\n",
       " 487: '소름',\n",
       " 488: '멋진',\n",
       " 489: '힘들',\n",
       " 490: '오늘',\n",
       " 491: '어이없',\n",
       " 492: '봐서',\n",
       " 493: '잡',\n",
       " 494: '구성',\n",
       " 495: '엄마',\n",
       " 496: '함께',\n",
       " 497: '문제',\n",
       " 498: '위해',\n",
       " 499: '졸작',\n",
       " 500: '잊',\n",
       " 501: '이딴',\n",
       " 502: '등',\n",
       " 503: '집',\n",
       " 504: '유쾌',\n",
       " 505: '뻔한',\n",
       " 506: '킬링',\n",
       " 507: '스러운',\n",
       " 508: '결국',\n",
       " 509: '낫',\n",
       " 510: '한데',\n",
       " 511: '나요',\n",
       " 512: '뭘',\n",
       " 513: '소리',\n",
       " 514: '간',\n",
       " 515: '20',\n",
       " 516: '역사',\n",
       " 517: '뭔',\n",
       " 518: '제발',\n",
       " 519: '포스터',\n",
       " 520: '아무리',\n",
       " 521: '코믹',\n",
       " 522: '어떤',\n",
       " 523: '완벽',\n",
       " 524: '~~~',\n",
       " 525: '맘',\n",
       " 526: '얼마나',\n",
       " 527: '애니메이션',\n",
       " 528: '!!!',\n",
       " 529: '러',\n",
       " 530: '주연',\n",
       " 531: '원',\n",
       " 532: '난다',\n",
       " 533: '버리',\n",
       " 534: '어릴',\n",
       " 535: '♥',\n",
       " 536: '후회',\n",
       " 537: '진부',\n",
       " 538: '나올',\n",
       " 539: '됐',\n",
       " 540: '보단',\n",
       " 541: '책',\n",
       " 542: '장난',\n",
       " 543: '더니',\n",
       " 544: '영화관',\n",
       " 545: '큰',\n",
       " 546: '개연',\n",
       " 547: '둘',\n",
       " 548: '출연',\n",
       " 549: '보고',\n",
       " 550: '극',\n",
       " 551: 'ㅅ',\n",
       " 552: '밖',\n",
       " 553: '충격',\n",
       " 554: '여기',\n",
       " 555: '엇',\n",
       " 556: '잔인',\n",
       " 557: '아름답',\n",
       " 558: '얘기',\n",
       " 559: '줬',\n",
       " 560: '평가',\n",
       " 561: '꺼',\n",
       " 562: '예술',\n",
       " 563: '갈수록',\n",
       " 564: '매우',\n",
       " 565: '든',\n",
       " 566: '자기',\n",
       " 567: '위한',\n",
       " 568: '이리',\n",
       " 569: '봐라',\n",
       " 570: '이후',\n",
       " 571: '읽',\n",
       " 572: '반',\n",
       " 573: '얼굴',\n",
       " 574: '꽤',\n",
       " 575: '티비',\n",
       " 576: '이쁘',\n",
       " 577: '으나',\n",
       " 578: '별점',\n",
       " 579: '깊',\n",
       " 580: '옛날',\n",
       " 581: '불쌍',\n",
       " 582: '못한',\n",
       " 583: '겟',\n",
       " 584: '불',\n",
       " 585: '시청',\n",
       " 586: '순수',\n",
       " 587: '라서',\n",
       " 588: '낭비',\n",
       " 589: '언제',\n",
       " 590: '건가',\n",
       " 591: '비디오',\n",
       " 592: '애니',\n",
       " 593: '머리',\n",
       " 594: '장르',\n",
       " 595: '생각나',\n",
       " 596: '텐데',\n",
       " 597: '+',\n",
       " 598: '미',\n",
       " 599: '배',\n",
       " 600: '그래서',\n",
       " 601: ':',\n",
       " 602: '다운',\n",
       " 603: '주제',\n",
       " 604: '다큐',\n",
       " 605: '다음',\n",
       " 606: '궁금',\n",
       " 607: '아님',\n",
       " 608: '시키',\n",
       " 609: '누구',\n",
       " 610: '예전',\n",
       " 611: '그렇게',\n",
       " 612: '크',\n",
       " 613: '동안',\n",
       " 614: '뒤',\n",
       " 615: '그만',\n",
       " 616: '인상',\n",
       " 617: '상황',\n",
       " 618: '??',\n",
       " 619: '이름',\n",
       " 620: '미친',\n",
       " 621: '스릴',\n",
       " 622: '감사',\n",
       " 623: '시즌',\n",
       " 624: '아무',\n",
       " 625: '너',\n",
       " 626: '오래',\n",
       " 627: 'B',\n",
       " 628: '집중',\n",
       " 629: '힘',\n",
       " 630: '어느',\n",
       " 631: '본다',\n",
       " 632: '그러',\n",
       " 633: '로맨스',\n",
       " 634: '약간',\n",
       " 635: '나와서',\n",
       " 636: '진정',\n",
       " 637: '식',\n",
       " 638: '방송',\n",
       " 639: '그나마',\n",
       " 640: '까',\n",
       " 641: '짜리',\n",
       " 642: '마세요',\n",
       " 643: '소설',\n",
       " 644: '여주인공',\n",
       " 645: '몰',\n",
       " 646: '걸작',\n",
       " 647: '존나',\n",
       " 648: '그대로',\n",
       " 649: '죽이',\n",
       " 650: '인물',\n",
       " 651: '났',\n",
       " 652: '그것',\n",
       " 653: '회',\n",
       " 654: '떨어지',\n",
       " 655: '평',\n",
       " 656: '케',\n",
       " 657: '왔',\n",
       " 658: '에요',\n",
       " 659: '실화',\n",
       " 660: '꿈',\n",
       " 661: '대체',\n",
       " 662: '해라',\n",
       " 663: '훨씬',\n",
       " 664: '짓',\n",
       " 665: '무',\n",
       " 666: '사회',\n",
       " 667: '만점',\n",
       " 668: '발연기',\n",
       " 669: '구만',\n",
       " 670: '~!',\n",
       " 671: '전체',\n",
       " 672: 'ㅜ',\n",
       " 673: '비슷',\n",
       " 674: '누가',\n",
       " 675: '막',\n",
       " 676: '30',\n",
       " 677: '햇',\n",
       " 678: '끝나',\n",
       " 679: 'CG',\n",
       " 680: '엉성',\n",
       " 681: '귀엽',\n",
       " 682: '여주',\n",
       " 683: '단',\n",
       " 684: '영상미',\n",
       " 685: '중국',\n",
       " 686: '비교',\n",
       " 687: '초딩',\n",
       " 688: '감성',\n",
       " 689: '네이버',\n",
       " 690: '세계',\n",
       " 691: '여배우',\n",
       " 692: '는가',\n",
       " 693: 'ㅎㅎㅎ',\n",
       " 694: '순간',\n",
       " 695: '망',\n",
       " 696: '느껴',\n",
       " 697: '려는',\n",
       " 698: '나이',\n",
       " 699: ';;;',\n",
       " 700: '대해',\n",
       " 701: '상',\n",
       " 702: '첫',\n",
       " 703: '어렸',\n",
       " 704: '쯤',\n",
       " 705: '판',\n",
       " 706: '입',\n",
       " 707: '꿀',\n",
       " 708: '갔',\n",
       " 709: '어설픈',\n",
       " 710: '돋',\n",
       " 711: '셨',\n",
       " 712: '학교',\n",
       " 713: '더럽',\n",
       " 714: '타',\n",
       " 715: '생',\n",
       " 716: '100',\n",
       " 717: '혼자',\n",
       " 718: '아들',\n",
       " 719: '느낄',\n",
       " 720: '성룡',\n",
       " 721: '아야',\n",
       " 722: '가능',\n",
       " 723: '졸',\n",
       " 724: '어린',\n",
       " 725: '교훈',\n",
       " 726: '멋지',\n",
       " 727: '바로',\n",
       " 728: '나가',\n",
       " 729: '잘못',\n",
       " 730: '맛',\n",
       " 731: '.....',\n",
       " 732: '한마디',\n",
       " 733: '존',\n",
       " 734: '딸',\n",
       " 735: '당신',\n",
       " 736: '화려',\n",
       " 737: '길래',\n",
       " 738: '끌',\n",
       " 739: '티',\n",
       " 740: '판타지',\n",
       " 741: '삼류',\n",
       " 742: '잠',\n",
       " 743: '땜',\n",
       " 744: '든다',\n",
       " 745: '달',\n",
       " 746: '빨리',\n",
       " 747: '맨',\n",
       " 748: '목소리',\n",
       " 749: '똥',\n",
       " 750: '아까움',\n",
       " 751: '영',\n",
       " 752: '당',\n",
       " 753: '거의',\n",
       " 754: '듣',\n",
       " 755: '봤었',\n",
       " 756: '나온다',\n",
       " 757: '전부',\n",
       " 758: '차',\n",
       " 759: '독특',\n",
       " 760: '건데',\n",
       " 761: '다르',\n",
       " 762: '초',\n",
       " 763: 'ㅉㅉ',\n",
       " 764: '어른',\n",
       " 765: '가치',\n",
       " 766: '위',\n",
       " 767: '률',\n",
       " 768: '상당히',\n",
       " 769: '씩',\n",
       " 770: '90',\n",
       " 771: '다만',\n",
       " 772: '질질',\n",
       " 773: '아버지',\n",
       " 774: '넣',\n",
       " 775: '평론가',\n",
       " 776: '줄거리',\n",
       " 777: '한번',\n",
       " 778: '이번',\n",
       " 779: '갑자기',\n",
       " 780: '스타일',\n",
       " 781: '이러',\n",
       " 782: '그러나',\n",
       " 783: '여러',\n",
       " 784: '군요',\n",
       " 785: 'ㅂ',\n",
       " 786: '의도',\n",
       " 787: '저런',\n",
       " 788: '존재',\n",
       " 789: '허무',\n",
       " 790: '밑',\n",
       " 791: '%',\n",
       " 792: '부',\n",
       " 793: '대로',\n",
       " 794: '에선',\n",
       " 795: '째',\n",
       " 796: '각본',\n",
       " 797: '예상',\n",
       " 798: '성우',\n",
       " 799: '으면서',\n",
       " 800: '그녀',\n",
       " 801: '버린',\n",
       " 802: '화면',\n",
       " 803: '너무너무',\n",
       " 804: 'ㄱ',\n",
       " 805: '떠나',\n",
       " 806: '예쁘',\n",
       " 807: '비해',\n",
       " 808: '자연',\n",
       " 809: '담',\n",
       " 810: '그런지',\n",
       " 811: '뻔하',\n",
       " 812: '평범',\n",
       " 813: '굉장히',\n",
       " 814: '만나',\n",
       " 815: '슬픈',\n",
       " 816: '돼',\n",
       " 817: '못했',\n",
       " 818: '지루함',\n",
       " 819: '복수',\n",
       " 820: '관람',\n",
       " 821: '스',\n",
       " 822: '단순',\n",
       " 823: '댓글',\n",
       " 824: '중요',\n",
       " 825: '낸',\n",
       " 826: '새로운',\n",
       " 827: '피',\n",
       " 828: '앗',\n",
       " 829: '극장판',\n",
       " 830: '줌',\n",
       " 831: '갖',\n",
       " 832: '굳',\n",
       " 833: '제작',\n",
       " 834: '버렸',\n",
       " 835: '일단',\n",
       " 836: '만족',\n",
       " 837: '쉽',\n",
       " 838: '선택',\n",
       " 839: '아빠',\n",
       " 840: '쓴',\n",
       " 841: 'TV',\n",
       " 842: '요소',\n",
       " 843: '한편',\n",
       " 844: '불편',\n",
       " 845: '항상',\n",
       " 846: '거기',\n",
       " 847: '연출력',\n",
       " 848: '그때',\n",
       " 849: '롭',\n",
       " 850: '에로',\n",
       " 851: '산',\n",
       " 852: '탄탄',\n",
       " 853: '잃',\n",
       " 854: '한다는',\n",
       " 855: '발',\n",
       " 856: '나옴',\n",
       " 857: '예요',\n",
       " 858: '한심',\n",
       " 859: '흥행',\n",
       " 860: '물론',\n",
       " 861: '려',\n",
       " 862: '지나',\n",
       " 863: '따라',\n",
       " 864: '진행',\n",
       " 865: '점점',\n",
       " 866: '관계',\n",
       " 867: '전형',\n",
       " 868: '역대',\n",
       " 869: '편집',\n",
       " 870: '조',\n",
       " 871: '거나',\n",
       " 872: '아까워',\n",
       " 873: '법',\n",
       " 874: '던가',\n",
       " 875: '총',\n",
       " 876: '짧',\n",
       " 877: '이하',\n",
       " 878: '충분히',\n",
       " 879: '따',\n",
       " 880: '안타깝',\n",
       " 881: '에겐',\n",
       " 882: '아닌가',\n",
       " 883: '식상',\n",
       " 884: '몰랐',\n",
       " 885: '자꾸',\n",
       " 886: '훈훈',\n",
       " 887: '80',\n",
       " 888: '미안',\n",
       " 889: '김',\n",
       " 890: '화이팅',\n",
       " 891: '도록',\n",
       " 892: '게임',\n",
       " 893: '-_-',\n",
       " 894: '멜',\n",
       " 895: '원래',\n",
       " 896: '곳',\n",
       " 897: '그게',\n",
       " 898: '자극',\n",
       " 899: '몸',\n",
       " 900: '삼',\n",
       " 901: '손',\n",
       " 902: '장',\n",
       " 903: '구요',\n",
       " 904: '~!!',\n",
       " 905: '어쩔',\n",
       " 906: '팔',\n",
       " 907: '똑같',\n",
       " 908: '간다',\n",
       " 909: '나쁜',\n",
       " 910: '뭔지',\n",
       " 911: '사건',\n",
       " 912: '풀',\n",
       " 913: '설명',\n",
       " 914: '어울리',\n",
       " 915: '짜',\n",
       " 916: '귀신',\n",
       " 917: '잖아',\n",
       " 918: '과거',\n",
       " 919: '빙',\n",
       " 920: '노력',\n",
       " 921: '짐',\n",
       " 922: '그래픽',\n",
       " 923: '도저히',\n",
       " 924: '황당',\n",
       " 925: '조차',\n",
       " 926: '닿',\n",
       " 927: '됬',\n",
       " 928: '아프',\n",
       " 929: '중반',\n",
       " 930: '개그',\n",
       " 931: '듬',\n",
       " 932: '프랑스',\n",
       " 933: '코메디',\n",
       " 934: '홍콩',\n",
       " 935: '취향',\n",
       " 936: '빠져',\n",
       " 937: '죽음',\n",
       " 938: '했었',\n",
       " 939: '미치',\n",
       " 940: '역',\n",
       " 941: '속편',\n",
       " 942: '무조건',\n",
       " 943: '소중',\n",
       " 944: '프로',\n",
       " 945: '빠',\n",
       " 946: '무비',\n",
       " 947: '참신',\n",
       " 948: '이란',\n",
       " 949: '쳐',\n",
       " 950: '나쁘',\n",
       " 951: '멋',\n",
       " 952: '좋아하',\n",
       " 953: '아쉬운',\n",
       " 954: '더욱',\n",
       " 955: '넘치',\n",
       " 956: '병맛',\n",
       " 957: '괜히',\n",
       " 958: '진지',\n",
       " 959: '빠지',\n",
       " 960: '척',\n",
       " 961: '특유',\n",
       " 962: '또한',\n",
       " 963: '상상',\n",
       " 964: '숨',\n",
       " 965: '상영',\n",
       " 966: '결혼',\n",
       " 967: '리',\n",
       " 968: '짱짱',\n",
       " 969: '유명',\n",
       " 970: 'ost',\n",
       " 971: '심리',\n",
       " 972: '전설',\n",
       " 973: '무서운',\n",
       " 974: '헐',\n",
       " 975: '엄청난',\n",
       " 976: '오히려',\n",
       " 977: '인듯',\n",
       " 978: '비추',\n",
       " 979: '예고편',\n",
       " 980: '후반부',\n",
       " 981: '틀',\n",
       " 982: '더빙',\n",
       " 983: '아저씨',\n",
       " 984: '으니',\n",
       " 985: '고자',\n",
       " 986: '심하',\n",
       " 987: '바보',\n",
       " 988: '왕',\n",
       " 989: '연기자',\n",
       " 990: '촬영',\n",
       " 991: '그리',\n",
       " 992: '소녀',\n",
       " 993: '느꼈',\n",
       " 994: '끝내',\n",
       " 995: '로맨틱',\n",
       " 996: '조연',\n",
       " 997: '천재',\n",
       " 998: '아도',\n",
       " 999: '쩔',\n",
       " 1000: '희망',\n",
       " 1001: '최근',\n",
       " 1002: '간만에',\n",
       " ...}"
      ]
     },
     "execution_count": 5,
     "metadata": {},
     "output_type": "execute_result"
    }
   ],
   "source": [
    "index_to_word"
   ]
  },
  {
   "cell_type": "code",
   "execution_count": 15,
   "id": "c924fbcd",
   "metadata": {},
   "outputs": [],
   "source": [
    "class TokenDescription:\n",
    "    def __init__(self, X_train, X_test):\n",
    "        total_data_text = list(X_train) + list(X_test) # append two lists of tokens\n",
    "        num_tokens = [len(tokens) for tokens in total_data_text]\n",
    "        num_tokens = np.array(num_tokens) # Get the tokenized data {mean,max ,std}}\n",
    "        \n",
    "        self.mean_length = np.mean(num_tokens)\n",
    "        self.max_length = np.max(num_tokens)\n",
    "        self.std_deviation = np.std(num_tokens)\n",
    "        \n",
    "        max_tokens = self.mean_length + 2 * self.std_deviation # assume normal distribution\n",
    "        self.maxlen = int(max_tokens)\n",
    "        \n",
    "    def describe(self):\n",
    "        print(f\"Mean sentence length: {self.mean_length:.2f}\")\n",
    "        print(f\"Maximum sentence length: {self.max_length}\")\n",
    "        print(f\"Standard deviation of sentence length: {self.std_deviation:.2f}\")\n",
    "        print(f\"Maximum sequence length for pad_sequences: {self.maxlen}\")\n",
    "        print(f\"Percentage of sentences within maxlen: {100 * np.sum(num_tokens < self.maxlen) / len(num_tokens):.2f}%\")\n",
    "        "
   ]
  },
  {
   "cell_type": "code",
   "execution_count": 16,
   "id": "93b8b5b4",
   "metadata": {},
   "outputs": [],
   "source": [
    "token_description = TokenDescription(X_train, X_test)"
   ]
  },
  {
   "cell_type": "code",
   "execution_count": 18,
   "id": "13dcc372",
   "metadata": {},
   "outputs": [
    {
     "name": "stdout",
     "output_type": "stream",
     "text": [
      "Mean sentence length: 15.97\n",
      "Maximum sentence length: 116\n",
      "Standard deviation of sentence length: 12.84\n",
      "Maximum sequence length for pad_sequences: 41\n",
      "Percentage of sentences within maxlen: 93.07%\n"
     ]
    }
   ],
   "source": [
    "token_description.describe()"
   ]
  },
  {
   "cell_type": "code",
   "execution_count": 33,
   "id": "dca5d10f",
   "metadata": {},
   "outputs": [
    {
     "data": {
      "text/plain": [
       "<AxesSubplot:>"
      ]
     },
     "execution_count": 33,
     "metadata": {},
     "output_type": "execute_result"
    },
    {
     "data": {
      "image/png": "[encoded data removed]",
      "text/plain": [
       "<Figure size 432x288 with 1 Axes>"
      ]
     },
     "metadata": {
      "needs_background": "light"
     },
     "output_type": "display_data"
    }
   ],
   "source": [
    "train_data['label'].value_counts().plot(kind = 'bar')"
   ]
  },
  {
   "cell_type": "code",
   "execution_count": 42,
   "id": "5e6d2685",
   "metadata": {},
   "outputs": [],
   "source": [
    "def preprocess_data(df):\n",
    "    # Remove non-Korean characters using regex\n",
    "    df['document'] = df['document'].str.replace(\"[^ㄱ-ㅎㅏ-ㅣ가-힣 ]\", \"\")\n",
    "    # Replace empty strings with NaN\n",
    "    df['document'].replace('', np.nan, inplace=True)\n",
    "    print('전처리 전 샘플의 개수 :',len(df))\n",
    "    # Drop rows with NaN values\n",
    "    df.dropna(how='any', inplace=True)\n",
    "    # Remove duplicate rows based on the 'document' column\n",
    "    df.drop_duplicates(subset=['document'], inplace=True)\n",
    "    print('전처리 후 샘플의 개수 :',len(df))\n",
    "    return df"
   ]
  },
  {
   "cell_type": "code",
   "execution_count": 43,
   "id": "956c4944",
   "metadata": {},
   "outputs": [
    {
     "name": "stderr",
     "output_type": "stream",
     "text": [
      "/tmp/ipykernel_31/1098156831.py:3: FutureWarning: The default value of regex will change from True to False in a future version.\n",
      "  df['document'] = df['document'].str.replace(\"[^ㄱ-ㅎㅏ-ㅣ가-힣 ]\", \"\")\n"
     ]
    },
    {
     "name": "stdout",
     "output_type": "stream",
     "text": [
      "전처리 전 샘플의 개수 : 143681\n",
      "전처리 후 샘플의 개수 : 143681\n",
      "전처리 전 샘플의 개수 : 48417\n",
      "전처리 후 샘플의 개수 : 48417\n"
     ]
    }
   ],
   "source": [
    "train_data = preprocess_data(train_data)\n",
    "test_data = preprocess_data(test_data)"
   ]
  },
  {
   "cell_type": "code",
   "execution_count": 47,
   "id": "7ea45522",
   "metadata": {},
   "outputs": [],
   "source": [
    "tokenizer = Mecab() # initialize Mecab from konlpy\n",
    "\n",
    "stopwords = ['의','가','이','은','들','는','좀','잘','걍','과','도','를','으로','자','에','와','한','하다']\n",
    "train_data['tokenized'] = train_data['document'].apply(tokenizer.morphs)\n",
    "train_data['tokenized'] = train_data['tokenized'].apply(lambda x: [item for item in x if item not in stopwords])\n",
    "test_data['tokenized'] = test_data['document'].apply(tokenizer.morphs)\n",
    "test_data['tokenized'] = test_data['tokenized'].apply(lambda x: [item for item in x if item not in stopwords])"
   ]
  },
  {
   "cell_type": "code",
   "execution_count": 71,
   "id": "96e76c5a",
   "metadata": {},
   "outputs": [],
   "source": [
    "X_train = train_data['tokenized'].values\n",
    "y_train = train_data['label'].values\n",
    "X_test= test_data['tokenized'].values\n",
    "y_test = test_data['label'].values"
   ]
  },
  {
   "cell_type": "code",
   "execution_count": 72,
   "id": "8fc20599",
   "metadata": {
    "scrolled": true
   },
   "outputs": [
    {
     "data": {
      "text/plain": [
       "array([list(['아', '더', '빙', '진짜', '짜증', '나', '네요', '목소리']),\n",
       "       list(['흠', '포스터', '보고', '초딩', '영화', '줄', '오버', '연기', '조차', '가볍', '지', '않', '구나']),\n",
       "       list(['너무', '재', '밓었다그래서보는것을추천한다']),\n",
       "       list(['교도소', '이야기', '구먼', '솔직히', '재미', '없', '다', '평점', '조정'])],\n",
       "      dtype=object)"
      ]
     },
     "execution_count": 72,
     "metadata": {},
     "output_type": "execute_result"
    }
   ],
   "source": [
    "X_train[:4]"
   ]
  },
  {
   "cell_type": "code",
   "execution_count": 73,
   "id": "ee3b0551",
   "metadata": {},
   "outputs": [
    {
     "data": {
      "text/plain": [
       "array([0, 1, 0, 0])"
      ]
     },
     "execution_count": 73,
     "metadata": {},
     "output_type": "execute_result"
    }
   ],
   "source": [
    "y_train[:4]"
   ]
  },
  {
   "cell_type": "code",
   "execution_count": 79,
   "id": "974770c5",
   "metadata": {},
   "outputs": [],
   "source": [
    "tokenizer = Tokenizer()\n",
    "tokenizer.fit_on_texts(X_train)"
   ]
  },
  {
   "cell_type": "code",
   "execution_count": 80,
   "id": "285da902",
   "metadata": {},
   "outputs": [],
   "source": [
    "def rare_stat(token: Tokenizer, threshold: int):\n",
    "    threshold = 2\n",
    "    total_cnt = len(tokenizer.word_index) # total word count\n",
    "    rare_cnt = 0 # Rare counts\n",
    "    total_freq = 0 # total frequency\n",
    "    rare_freq = 0 # Rareity frequency \n",
    "    for key, value in tokenizer.word_counts.items():\n",
    "        total_freq = total_freq + value\n",
    "\n",
    "    # 단어의 등장 빈도수가 threshold보다 작으면\n",
    "    if(value < threshold):\n",
    "        rare_cnt = rare_cnt + 1\n",
    "        rare_freq = rare_freq + value\n",
    "    \n",
    "    print('단어 집합(vocabulary)의 크기 :',total_cnt)\n",
    "    print('등장 빈도가 %s번 이하인 희귀 단어의 수: %s'%(threshold - 1, rare_cnt))\n",
    "    print(\"단어 집합에서 희귀 단어의 비율:\", (rare_cnt / total_cnt)*100)\n",
    "    print(\"전체 등장 빈도에서 희귀 단어 등장 빈도 비율:\", (rare_freq / total_freq)*100)\n",
    "    return(rare_cnt)"
   ]
  },
  {
   "cell_type": "code",
   "execution_count": 81,
   "id": "12414b3c",
   "metadata": {},
   "outputs": [
    {
     "name": "stdout",
     "output_type": "stream",
     "text": [
      "단어 집합(vocabulary)의 크기 : 49946\n",
      "등장 빈도가 1번 이하인 희귀 단어의 수: 1\n",
      "단어 집합에서 희귀 단어의 비율: 0.0020021623353221477\n",
      "전체 등장 빈도에서 희귀 단어 등장 빈도 비율: 4.994625782657861e-05\n"
     ]
    },
    {
     "data": {
      "text/plain": [
       "1"
      ]
     },
     "execution_count": 81,
     "metadata": {},
     "output_type": "execute_result"
    }
   ],
   "source": [
    "rare_stat(tokenizer, threshold = 2)"
   ]
  },
  {
   "cell_type": "code",
   "execution_count": 82,
   "id": "1bbac988",
   "metadata": {},
   "outputs": [],
   "source": [
    "vocab_size = 49946 - 1 + 2"
   ]
  },
  {
   "cell_type": "code",
   "execution_count": 83,
   "id": "8deb4ff7",
   "metadata": {},
   "outputs": [
    {
     "data": {
      "text/plain": [
       "49947"
      ]
     },
     "execution_count": 83,
     "metadata": {},
     "output_type": "execute_result"
    }
   ],
   "source": [
    "vocab_size"
   ]
  },
  {
   "cell_type": "code",
   "execution_count": 84,
   "id": "3a13ba1f",
   "metadata": {},
   "outputs": [],
   "source": [
    "tokenizer = Tokenizer(vocab_size, oov_token = 'OOV') \n",
    "tokenizer.fit_on_texts(X_train)\n",
    "X_train = tokenizer.texts_to_sequences(X_train)\n",
    "X_test = tokenizer.texts_to_sequences(X_test)"
   ]
  },
  {
   "cell_type": "code",
   "execution_count": 85,
   "id": "c9a4d0cb",
   "metadata": {},
   "outputs": [
    {
     "name": "stdout",
     "output_type": "stream",
     "text": [
      "[[25, 65, 889, 31, 212, 13, 26, 696], [992, 478, 489, 634, 2, 108, 1551, 45, 864, 945, 9, 36, 362], [17, 190, 28631]]\n"
     ]
    }
   ],
   "source": [
    "print(X_train[:3])"
   ]
  },
  {
   "cell_type": "code",
   "execution_count": 86,
   "id": "966254fc",
   "metadata": {},
   "outputs": [],
   "source": [
    "# padding\n",
    "def below_threshold_len(max_len, nested_list):\n",
    "  count = 0\n",
    "  for sentence in nested_list:\n",
    "    if(len(sentence) <= max_len):\n",
    "        count = count + 1\n",
    "  print('전체 샘플 중 길이가 %s 이하인 샘플의 비율: %s'%(max_len, (count / len(nested_list))*100))"
   ]
  },
  {
   "cell_type": "code",
   "execution_count": 91,
   "id": "f30edaa3",
   "metadata": {},
   "outputs": [
    {
     "name": "stdout",
     "output_type": "stream",
     "text": [
      "전체 샘플 중 길이가 65 이하인 샘플의 비율: 99.93666525149463\n"
     ]
    }
   ],
   "source": [
    "max_len = 65\n",
    "below_threshold_len(max_len, X_train)"
   ]
  },
  {
   "cell_type": "code",
   "execution_count": 92,
   "id": "5cb8566c",
   "metadata": {},
   "outputs": [],
   "source": [
    "X_train_padded = pad_sequences(X_train, maxlen=max_sequence_length, padding='post', truncating='post')\n",
    "X_test_padded = pad_sequences(X_test, maxlen=max_sequence_length, padding='post', truncating='post')"
   ]
  },
  {
   "cell_type": "code",
   "execution_count": 98,
   "id": "46c370a2",
   "metadata": {},
   "outputs": [
    {
     "data": {
      "text/plain": [
       "((143681, 100), (48417, 100))"
      ]
     },
     "execution_count": 98,
     "metadata": {},
     "output_type": "execute_result"
    }
   ],
   "source": [
    "X_train_padded.shape , X_test_padded.shape"
   ]
  },
  {
   "cell_type": "code",
   "execution_count": 102,
   "id": "001d7b9d",
   "metadata": {},
   "outputs": [
    {
     "data": {
      "text/plain": [
       "((143681,), (48417,))"
      ]
     },
     "execution_count": 102,
     "metadata": {},
     "output_type": "execute_result"
    }
   ],
   "source": [
    "y_train.shape, y_test.shape"
   ]
  },
  {
   "cell_type": "markdown",
   "id": "c311f249",
   "metadata": {},
   "source": [
    "# First try: `RNN`"
   ]
  },
  {
   "cell_type": "code",
   "execution_count": 99,
   "id": "c70a4f62",
   "metadata": {},
   "outputs": [],
   "source": [
    "word_vector_dim = 100 "
   ]
  },
  {
   "cell_type": "code",
   "execution_count": 100,
   "id": "b0fd9632",
   "metadata": {},
   "outputs": [
    {
     "name": "stdout",
     "output_type": "stream",
     "text": [
      "49947 100\n"
     ]
    }
   ],
   "source": [
    "print(vocab_size, word_vector_dim)"
   ]
  },
  {
   "cell_type": "code",
   "execution_count": 125,
   "id": "1165d5e6",
   "metadata": {},
   "outputs": [
    {
     "name": "stdout",
     "output_type": "stream",
     "text": [
      "Model: \"sequential_1\"\n",
      "_________________________________________________________________\n",
      "Layer (type)                 Output Shape              Param #   \n",
      "=================================================================\n",
      "embedding_3 (Embedding)      (None, None, 100)         4994700   \n",
      "_________________________________________________________________\n",
      "lstm_1 (LSTM)                (None, 8)                 3488      \n",
      "_________________________________________________________________\n",
      "dense_2 (Dense)              (None, 8)                 72        \n",
      "_________________________________________________________________\n",
      "dense_3 (Dense)              (None, 1)                 9         \n",
      "=================================================================\n",
      "Total params: 4,998,269\n",
      "Trainable params: 4,998,269\n",
      "Non-trainable params: 0\n",
      "_________________________________________________________________\n"
     ]
    }
   ],
   "source": [
    "model = tf.keras.Sequential()\n",
    "model.add(tf.keras.layers.Embedding(vocab_size, word_vector_dim, input_shape=(None,)))\n",
    "model.add(tf.keras.layers.LSTM(8))   # 가장 널리 쓰이는 RNN인 LSTM 레이어를 사용하였습니다. 이때 LSTM state 벡터의 차원수는 8로 하였습니다. (변경 가능)\n",
    "model.add(tf.keras.layers.Dense(8, activation='relu'))\n",
    "model.add(tf.keras.layers.Dense(1, activation='sigmoid'))  # 최종 출력은 긍정/부정을 나타내는 1dim 입니다.\n",
    "\n",
    "model.summary()"
   ]
  },
  {
   "cell_type": "code",
   "execution_count": 103,
   "id": "0e9fb7ce",
   "metadata": {},
   "outputs": [
    {
     "data": {
      "text/plain": [
       "((143681, 100), (48417, 100))"
      ]
     },
     "execution_count": 103,
     "metadata": {},
     "output_type": "execute_result"
    }
   ],
   "source": [
    "X_train_padded.shape , X_test_padded.shape"
   ]
  },
  {
   "cell_type": "code",
   "execution_count": 106,
   "id": "785b04d9",
   "metadata": {},
   "outputs": [
    {
     "data": {
      "text/plain": [
       "100000"
      ]
     },
     "execution_count": 106,
     "metadata": {},
     "output_type": "execute_result"
    }
   ],
   "source": [
    "np.round(X_train_padded.shape[0], -5)"
   ]
  },
  {
   "cell_type": "code",
   "execution_count": 118,
   "id": "c6d4eb4c",
   "metadata": {},
   "outputs": [
    {
     "data": {
      "text/plain": [
       "70000"
      ]
     },
     "execution_count": 118,
     "metadata": {},
     "output_type": "execute_result"
    }
   ],
   "source": [
    "np.round(X_train_padded.shape[0] //2, -4)"
   ]
  },
  {
   "cell_type": "code",
   "execution_count": 119,
   "id": "554e4adf",
   "metadata": {},
   "outputs": [
    {
     "name": "stdout",
     "output_type": "stream",
     "text": [
      "(73681, 100)\n",
      "(73681,)\n"
     ]
    }
   ],
   "source": [
    "number_valid = np.round(X_train_padded.shape[0] //2, -4)\n",
    "x_val = X_train_padded[:number_valid]   \n",
    "y_val = y_train[:number_valid]\n",
    "\n",
    "\n",
    "partial_x_train = X_train_padded[number_valid:]   \n",
    "partial_y_train = y_train[number_valid:]\n",
    "\n",
    "\n",
    "print(partial_x_train.shape)\n",
    "print(partial_y_train.shape)"
   ]
  },
  {
   "cell_type": "code",
   "execution_count": 120,
   "id": "512dbe36",
   "metadata": {},
   "outputs": [
    {
     "name": "stdout",
     "output_type": "stream",
     "text": [
      "Epoch 1/20\n",
      "144/144 [==============================] - 4s 16ms/step - loss: 0.6931 - accuracy: 0.5027 - val_loss: 0.6931 - val_accuracy: 0.5026\n",
      "Epoch 2/20\n",
      "144/144 [==============================] - 2s 12ms/step - loss: 0.6931 - accuracy: 0.5027 - val_loss: 0.6931 - val_accuracy: 0.5026\n",
      "Epoch 3/20\n",
      "144/144 [==============================] - 2s 12ms/step - loss: 0.6931 - accuracy: 0.5027 - val_loss: 0.6931 - val_accuracy: 0.5026\n",
      "Epoch 4/20\n",
      "144/144 [==============================] - 2s 12ms/step - loss: 0.6931 - accuracy: 0.5027 - val_loss: 0.6931 - val_accuracy: 0.5026\n",
      "Epoch 5/20\n",
      "144/144 [==============================] - 2s 12ms/step - loss: 0.6931 - accuracy: 0.5008 - val_loss: 0.6931 - val_accuracy: 0.5026\n",
      "Epoch 6/20\n",
      "144/144 [==============================] - 2s 12ms/step - loss: 0.6931 - accuracy: 0.5027 - val_loss: 0.6931 - val_accuracy: 0.5026\n",
      "Epoch 7/20\n",
      "144/144 [==============================] - 2s 12ms/step - loss: 0.6931 - accuracy: 0.5027 - val_loss: 0.6931 - val_accuracy: 0.5026\n",
      "Epoch 8/20\n",
      "144/144 [==============================] - 2s 12ms/step - loss: 0.6931 - accuracy: 0.5027 - val_loss: 0.6931 - val_accuracy: 0.5026\n",
      "Epoch 9/20\n",
      "144/144 [==============================] - 2s 12ms/step - loss: 0.6931 - accuracy: 0.5027 - val_loss: 0.6931 - val_accuracy: 0.5026\n",
      "Epoch 10/20\n",
      "144/144 [==============================] - 2s 12ms/step - loss: 0.6931 - accuracy: 0.5027 - val_loss: 0.6931 - val_accuracy: 0.5026\n",
      "Epoch 11/20\n",
      "144/144 [==============================] - 2s 12ms/step - loss: 0.6931 - accuracy: 0.5027 - val_loss: 0.6931 - val_accuracy: 0.5026\n",
      "Epoch 12/20\n",
      "144/144 [==============================] - 2s 12ms/step - loss: 0.6931 - accuracy: 0.5027 - val_loss: 0.6931 - val_accuracy: 0.5026\n",
      "Epoch 13/20\n",
      "144/144 [==============================] - 2s 12ms/step - loss: 0.6931 - accuracy: 0.5027 - val_loss: 0.6931 - val_accuracy: 0.5026\n",
      "Epoch 14/20\n",
      "144/144 [==============================] - 2s 12ms/step - loss: 0.6931 - accuracy: 0.5027 - val_loss: 0.6931 - val_accuracy: 0.5026\n",
      "Epoch 15/20\n",
      "144/144 [==============================] - 2s 12ms/step - loss: 0.6931 - accuracy: 0.5027 - val_loss: 0.6931 - val_accuracy: 0.5026\n",
      "Epoch 16/20\n",
      "144/144 [==============================] - 2s 12ms/step - loss: 0.6931 - accuracy: 0.5027 - val_loss: 0.6931 - val_accuracy: 0.5026\n",
      "Epoch 17/20\n",
      "144/144 [==============================] - 2s 12ms/step - loss: 0.6931 - accuracy: 0.5027 - val_loss: 0.6931 - val_accuracy: 0.5026\n",
      "Epoch 18/20\n",
      "144/144 [==============================] - 2s 12ms/step - loss: 0.6931 - accuracy: 0.5027 - val_loss: 0.6931 - val_accuracy: 0.5026\n",
      "Epoch 19/20\n",
      "144/144 [==============================] - 2s 12ms/step - loss: 0.6931 - accuracy: 0.5027 - val_loss: 0.6931 - val_accuracy: 0.5026\n",
      "Epoch 20/20\n",
      "144/144 [==============================] - 2s 12ms/step - loss: 0.6931 - accuracy: 0.5027 - val_loss: 0.6931 - val_accuracy: 0.5026\n"
     ]
    }
   ],
   "source": [
    "model.compile(optimizer='adam',\n",
    "              loss='binary_crossentropy',\n",
    "              metrics=['accuracy'])\n",
    "              \n",
    "epochs=20  # 몇 epoch를 훈련하면 좋을지 결과를 보면서 바꾸어 봅시다. \n",
    "\n",
    "history = model.fit(partial_x_train,\n",
    "                    partial_y_train,\n",
    "                    epochs=epochs,\n",
    "                    batch_size=512,\n",
    "                    validation_data=(x_val, y_val),\n",
    "                    verbose=1)"
   ]
  },
  {
   "cell_type": "code",
   "execution_count": 121,
   "id": "d1717b13",
   "metadata": {},
   "outputs": [
    {
     "name": "stdout",
     "output_type": "stream",
     "text": [
      "1514/1514 - 4s - loss: 0.6932 - accuracy: 0.4982\n",
      "[0.6931900978088379, 0.4982340931892395]\n"
     ]
    }
   ],
   "source": [
    "results = model.evaluate(X_test_padded,  y_test, verbose=2)\n",
    "print(results)"
   ]
  },
  {
   "cell_type": "code",
   "execution_count": 122,
   "id": "40812515",
   "metadata": {},
   "outputs": [
    {
     "name": "stdout",
     "output_type": "stream",
     "text": [
      "dict_keys(['loss', 'accuracy', 'val_loss', 'val_accuracy'])\n"
     ]
    }
   ],
   "source": [
    "history_dict = history.history\n",
    "print(history_dict.keys()) # epoch에 따른 그래프를 그려볼 수 있는 항목들"
   ]
  },
  {
   "cell_type": "code",
   "execution_count": 123,
   "id": "85baf46a",
   "metadata": {},
   "outputs": [
    {
     "data": {
      "image/png": "[encoded data removed]",
      "text/plain": [
       "<Figure size 432x288 with 1 Axes>"
      ]
     },
     "metadata": {
      "needs_background": "light"
     },
     "output_type": "display_data"
    }
   ],
   "source": [
    "import matplotlib.pyplot as plt\n",
    "\n",
    "acc = history_dict['accuracy']\n",
    "val_acc = history_dict['val_accuracy']\n",
    "loss = history_dict['loss']\n",
    "val_loss = history_dict['val_loss']\n",
    "\n",
    "epochs = range(1, len(acc) + 1)\n",
    "\n",
    "# \"bo\"는 \"파란색 점\"입니다\n",
    "plt.plot(epochs, loss, 'bo', label='Training loss')\n",
    "# b는 \"파란 실선\"입니다\n",
    "plt.plot(epochs, val_loss, 'b', label='Validation loss')\n",
    "plt.title('Training and validation loss')\n",
    "plt.xlabel('Epochs')\n",
    "plt.ylabel('Loss')\n",
    "plt.legend()\n",
    "\n",
    "plt.show()"
   ]
  },
  {
   "cell_type": "code",
   "execution_count": 124,
   "id": "e3392552",
   "metadata": {},
   "outputs": [
    {
     "data": {
      "image/png": "[encoded data removed]",
      "text/plain": [
       "<Figure size 432x288 with 1 Axes>"
      ]
     },
     "metadata": {
      "needs_background": "light"
     },
     "output_type": "display_data"
    }
   ],
   "source": [
    "plt.clf()   # 그림을 초기화합니다\n",
    "\n",
    "plt.plot(epochs, acc, 'bo', label='Training acc')\n",
    "plt.plot(epochs, val_acc, 'b', label='Validation acc')\n",
    "plt.title('Training and validation accuracy')\n",
    "plt.xlabel('Epochs')\n",
    "plt.ylabel('Accuracy')\n",
    "plt.legend()\n",
    "\n",
    "plt.show()"
   ]
  },
  {
   "cell_type": "markdown",
   "id": "28838219",
   "metadata": {},
   "source": [
    "- RNN: \n",
    "    - Accuracy: 49.82% \n",
    "    - Reflection on the graph: \n",
    "        - Why losses are not decreasing? Or why they are not monotonically changing?"
   ]
  },
  {
   "cell_type": "markdown",
   "id": "25d68eed",
   "metadata": {},
   "source": [
    "# CNN"
   ]
  },
  {
   "cell_type": "code",
   "execution_count": 129,
   "id": "a6e6c78f",
   "metadata": {},
   "outputs": [
    {
     "name": "stdout",
     "output_type": "stream",
     "text": [
      "100 49947\n"
     ]
    }
   ],
   "source": [
    "word_vector_dim = 100 \n",
    "print(word_vector_dim, vocab_size)"
   ]
  },
  {
   "cell_type": "code",
   "execution_count": 130,
   "id": "c1d5b64a",
   "metadata": {},
   "outputs": [
    {
     "name": "stdout",
     "output_type": "stream",
     "text": [
      "Model: \"sequential_3\"\n",
      "_________________________________________________________________\n",
      "Layer (type)                 Output Shape              Param #   \n",
      "=================================================================\n",
      "embedding_5 (Embedding)      (None, None, 100)         4994700   \n",
      "_________________________________________________________________\n",
      "conv1d_2 (Conv1D)            (None, None, 16)          11216     \n",
      "_________________________________________________________________\n",
      "max_pooling1d_1 (MaxPooling1 (None, None, 16)          0         \n",
      "_________________________________________________________________\n",
      "conv1d_3 (Conv1D)            (None, None, 16)          1808      \n",
      "_________________________________________________________________\n",
      "global_max_pooling1d_1 (Glob (None, 16)                0         \n",
      "_________________________________________________________________\n",
      "dense_6 (Dense)              (None, 8)                 136       \n",
      "_________________________________________________________________\n",
      "dense_7 (Dense)              (None, 1)                 9         \n",
      "=================================================================\n",
      "Total params: 5,007,869\n",
      "Trainable params: 5,007,869\n",
      "Non-trainable params: 0\n",
      "_________________________________________________________________\n"
     ]
    }
   ],
   "source": [
    "model = tf.keras.Sequential()\n",
    "model.add(tf.keras.layers.Embedding(vocab_size, word_vector_dim, input_shape=(None,)))\n",
    "model.add(tf.keras.layers.Conv1D(16, 7, activation='relu'))\n",
    "model.add(tf.keras.layers.MaxPooling1D(5))\n",
    "model.add(tf.keras.layers.Conv1D(16, 7, activation='relu'))\n",
    "model.add(tf.keras.layers.GlobalMaxPooling1D())\n",
    "model.add(tf.keras.layers.Dense(8, activation='relu'))\n",
    "model.add(tf.keras.layers.Dense(1, activation='sigmoid'))  # 최종 출력은 긍정/부정을 나타내는 1dim 입니다.\n",
    "\n",
    "model.summary()"
   ]
  },
  {
   "cell_type": "code",
   "execution_count": 131,
   "id": "a37c3427",
   "metadata": {},
   "outputs": [
    {
     "name": "stdout",
     "output_type": "stream",
     "text": [
      "Epoch 1/20\n",
      "144/144 [==============================] - 3s 12ms/step - loss: 0.5470 - accuracy: 0.7127 - val_loss: 0.3700 - val_accuracy: 0.8363\n",
      "Epoch 2/20\n",
      "144/144 [==============================] - 1s 10ms/step - loss: 0.3209 - accuracy: 0.8660 - val_loss: 0.3529 - val_accuracy: 0.8446\n",
      "Epoch 3/20\n",
      "144/144 [==============================] - 2s 11ms/step - loss: 0.2408 - accuracy: 0.9075 - val_loss: 0.3707 - val_accuracy: 0.8432\n",
      "Epoch 4/20\n",
      "144/144 [==============================] - 2s 10ms/step - loss: 0.1765 - accuracy: 0.9371 - val_loss: 0.4030 - val_accuracy: 0.8400\n",
      "Epoch 5/20\n",
      "144/144 [==============================] - 2s 11ms/step - loss: 0.1245 - accuracy: 0.9582 - val_loss: 0.4605 - val_accuracy: 0.8355\n",
      "Epoch 6/20\n",
      "144/144 [==============================] - 2s 11ms/step - loss: 0.0863 - accuracy: 0.9726 - val_loss: 0.5189 - val_accuracy: 0.8297\n",
      "Epoch 7/20\n",
      "144/144 [==============================] - 2s 11ms/step - loss: 0.0597 - accuracy: 0.9818 - val_loss: 0.5928 - val_accuracy: 0.8260\n",
      "Epoch 8/20\n",
      "144/144 [==============================] - 1s 10ms/step - loss: 0.0427 - accuracy: 0.9875 - val_loss: 0.6720 - val_accuracy: 0.8236\n",
      "Epoch 9/20\n",
      "144/144 [==============================] - 1s 10ms/step - loss: 0.0308 - accuracy: 0.9913 - val_loss: 0.7407 - val_accuracy: 0.8182\n",
      "Epoch 10/20\n",
      "144/144 [==============================] - 2s 10ms/step - loss: 0.0218 - accuracy: 0.9943 - val_loss: 0.8178 - val_accuracy: 0.8204\n",
      "Epoch 11/20\n",
      "144/144 [==============================] - 2s 11ms/step - loss: 0.0168 - accuracy: 0.9955 - val_loss: 0.8618 - val_accuracy: 0.8171\n",
      "Epoch 12/20\n",
      "144/144 [==============================] - 2s 11ms/step - loss: 0.0136 - accuracy: 0.9963 - val_loss: 0.9279 - val_accuracy: 0.8188\n",
      "Epoch 13/20\n",
      "144/144 [==============================] - 2s 11ms/step - loss: 0.0105 - accuracy: 0.9973 - val_loss: 0.9889 - val_accuracy: 0.8170\n",
      "Epoch 14/20\n",
      "144/144 [==============================] - 1s 10ms/step - loss: 0.0084 - accuracy: 0.9978 - val_loss: 1.0494 - val_accuracy: 0.8168\n",
      "Epoch 15/20\n",
      "144/144 [==============================] - 1s 10ms/step - loss: 0.0068 - accuracy: 0.9981 - val_loss: 1.1066 - val_accuracy: 0.8150\n",
      "Epoch 16/20\n",
      "144/144 [==============================] - 2s 11ms/step - loss: 0.0058 - accuracy: 0.9985 - val_loss: 1.1364 - val_accuracy: 0.8154\n",
      "Epoch 17/20\n",
      "144/144 [==============================] - 2s 11ms/step - loss: 0.0057 - accuracy: 0.9985 - val_loss: 1.1597 - val_accuracy: 0.8161\n",
      "Epoch 18/20\n",
      "144/144 [==============================] - 2s 10ms/step - loss: 0.0048 - accuracy: 0.9987 - val_loss: 1.1857 - val_accuracy: 0.8146\n",
      "Epoch 19/20\n",
      "144/144 [==============================] - 2s 11ms/step - loss: 0.0037 - accuracy: 0.9990 - val_loss: 1.2845 - val_accuracy: 0.8153\n",
      "Epoch 20/20\n",
      "144/144 [==============================] - 1s 10ms/step - loss: 0.0044 - accuracy: 0.9989 - val_loss: 1.2767 - val_accuracy: 0.8153\n"
     ]
    }
   ],
   "source": [
    "model.compile(optimizer='adam',\n",
    "              loss='binary_crossentropy',\n",
    "              metrics=['accuracy'])\n",
    "              \n",
    "epochs=20  # 몇 epoch를 훈련하면 좋을지 결과를 보면서 바꾸어 봅시다. \n",
    "\n",
    "history = model.fit(partial_x_train,\n",
    "                    partial_y_train,\n",
    "                    epochs=epochs,\n",
    "                    batch_size=512,\n",
    "                    validation_data=(x_val, y_val),\n",
    "                    verbose=1)"
   ]
  },
  {
   "cell_type": "code",
   "execution_count": 132,
   "id": "65ae11a5",
   "metadata": {},
   "outputs": [
    {
     "name": "stdout",
     "output_type": "stream",
     "text": [
      "1514/1514 - 3s - loss: 1.3200 - accuracy: 0.8097\n",
      "[1.319961428642273, 0.8097155690193176]\n"
     ]
    }
   ],
   "source": [
    "results = model.evaluate(X_test_padded,  y_test, verbose=2)\n",
    "print(results)"
   ]
  },
  {
   "cell_type": "code",
   "execution_count": 133,
   "id": "e3d500bf",
   "metadata": {},
   "outputs": [],
   "source": [
    "history_dict = history.history\n",
    "import matplotlib.pyplot as plt\n",
    "\n",
    "acc = history_dict['accuracy']\n",
    "val_acc = history_dict['val_accuracy']\n",
    "loss = history_dict['loss']\n",
    "val_loss = history_dict['val_loss']"
   ]
  },
  {
   "cell_type": "code",
   "execution_count": 134,
   "id": "91cd2c35",
   "metadata": {},
   "outputs": [],
   "source": [
    "epochs = range(1, len(acc) + 1)"
   ]
  },
  {
   "cell_type": "code",
   "execution_count": 135,
   "id": "3e66af35",
   "metadata": {},
   "outputs": [
    {
     "data": {
      "image/png": "[encoded data removed]",
      "text/plain": [
       "<Figure size 432x288 with 1 Axes>"
      ]
     },
     "metadata": {
      "needs_background": "light"
     },
     "output_type": "display_data"
    }
   ],
   "source": [
    "# \"bo\"는 \"파란색 점\"입니다\n",
    "plt.plot(epochs, loss, 'bo', label='Training loss')\n",
    "# b는 \"파란 실선\"입니다\n",
    "plt.plot(epochs, val_loss, 'b', label='Validation loss')\n",
    "plt.title('Training and validation loss')\n",
    "plt.xlabel('Epochs')\n",
    "plt.ylabel('Loss')\n",
    "plt.legend()\n",
    "\n",
    "plt.show()"
   ]
  },
  {
   "cell_type": "code",
   "execution_count": 136,
   "id": "8ae802b5",
   "metadata": {},
   "outputs": [
    {
     "data": {
      "image/png": "[encoded data removed]",
      "text/plain": [
       "<Figure size 432x288 with 1 Axes>"
      ]
     },
     "metadata": {
      "needs_background": "light"
     },
     "output_type": "display_data"
    }
   ],
   "source": [
    "plt.clf()   # 그림을 초기화합니다\n",
    "\n",
    "plt.plot(epochs, acc, 'bo', label='Training acc')\n",
    "plt.plot(epochs, val_acc, 'b', label='Validation acc')\n",
    "plt.title('Training and validation accuracy')\n",
    "plt.xlabel('Epochs')\n",
    "plt.ylabel('Accuracy')\n",
    "plt.legend()\n",
    "\n",
    "plt.show()"
   ]
  },
  {
   "cell_type": "markdown",
   "id": "783ccd0a",
   "metadata": {},
   "source": [
    "- CNN: \n",
    "    - Accuracy: 80.97%\n",
    "    - Reflection on the graph: \n",
    "        - Training loss good! However, validation loss expoentially increases\n",
    "        - Training accuracy good! However, validation accuracy curve meets plateau after 5 epochs. Why?"
   ]
  },
  {
   "cell_type": "markdown",
   "id": "ea58fea1",
   "metadata": {},
   "source": [
    "- Use `GlobalMaxPooling1D` layer"
   ]
  },
  {
   "cell_type": "code",
   "execution_count": 137,
   "id": "0374fd53",
   "metadata": {},
   "outputs": [
    {
     "name": "stdout",
     "output_type": "stream",
     "text": [
      "100 49947\n",
      "Model: \"sequential_4\"\n",
      "_________________________________________________________________\n",
      "Layer (type)                 Output Shape              Param #   \n",
      "=================================================================\n",
      "embedding_6 (Embedding)      (None, None, 100)         4994700   \n",
      "_________________________________________________________________\n",
      "global_max_pooling1d_2 (Glob (None, 100)               0         \n",
      "_________________________________________________________________\n",
      "dense_8 (Dense)              (None, 8)                 808       \n",
      "_________________________________________________________________\n",
      "dense_9 (Dense)              (None, 1)                 9         \n",
      "=================================================================\n",
      "Total params: 4,995,517\n",
      "Trainable params: 4,995,517\n",
      "Non-trainable params: 0\n",
      "_________________________________________________________________\n"
     ]
    }
   ],
   "source": [
    "word_vector_dim = 100 \n",
    "print(word_vector_dim, vocab_size)\n",
    "\n",
    "model = tf.keras.Sequential()\n",
    "model.add(tf.keras.layers.Embedding(vocab_size, word_vector_dim, input_shape=(None,)))\n",
    "model.add(tf.keras.layers.GlobalMaxPooling1D()) # What is Global Max Pooling Layer doing here?\n",
    "model.add(tf.keras.layers.Dense(8, activation='relu'))\n",
    "model.add(tf.keras.layers.Dense(1, activation='sigmoid'))  # 최종 출력은 긍정/부정을 나타내는 1dim 입니다.\n",
    "\n",
    "model.summary()"
   ]
  },
  {
   "cell_type": "code",
   "execution_count": 138,
   "id": "e54b76b9",
   "metadata": {},
   "outputs": [
    {
     "name": "stdout",
     "output_type": "stream",
     "text": [
      "Epoch 1/20\n",
      "144/144 [==============================] - 2s 8ms/step - loss: 0.5993 - accuracy: 0.7620 - val_loss: 0.4444 - val_accuracy: 0.8167\n",
      "Epoch 2/20\n",
      "144/144 [==============================] - 1s 7ms/step - loss: 0.3692 - accuracy: 0.8461 - val_loss: 0.3636 - val_accuracy: 0.8387\n",
      "Epoch 3/20\n",
      "144/144 [==============================] - 1s 7ms/step - loss: 0.2857 - accuracy: 0.8854 - val_loss: 0.3563 - val_accuracy: 0.8432\n",
      "Epoch 4/20\n",
      "144/144 [==============================] - 1s 7ms/step - loss: 0.2283 - accuracy: 0.9132 - val_loss: 0.3657 - val_accuracy: 0.8417\n",
      "Epoch 5/20\n",
      "144/144 [==============================] - 1s 7ms/step - loss: 0.1810 - accuracy: 0.9345 - val_loss: 0.3857 - val_accuracy: 0.8399\n",
      "Epoch 6/20\n",
      "144/144 [==============================] - 1s 7ms/step - loss: 0.1414 - accuracy: 0.9524 - val_loss: 0.4092 - val_accuracy: 0.8371\n",
      "Epoch 7/20\n",
      "144/144 [==============================] - 1s 7ms/step - loss: 0.1091 - accuracy: 0.9664 - val_loss: 0.4396 - val_accuracy: 0.8359\n",
      "Epoch 8/20\n",
      "144/144 [==============================] - 1s 7ms/step - loss: 0.0838 - accuracy: 0.9759 - val_loss: 0.4705 - val_accuracy: 0.8315\n",
      "Epoch 9/20\n",
      "144/144 [==============================] - 1s 7ms/step - loss: 0.0639 - accuracy: 0.9833 - val_loss: 0.5042 - val_accuracy: 0.8291\n",
      "Epoch 10/20\n",
      "144/144 [==============================] - 1s 7ms/step - loss: 0.0485 - accuracy: 0.9886 - val_loss: 0.5389 - val_accuracy: 0.8266\n",
      "Epoch 11/20\n",
      "144/144 [==============================] - 1s 7ms/step - loss: 0.0368 - accuracy: 0.9922 - val_loss: 0.5748 - val_accuracy: 0.8247\n",
      "Epoch 12/20\n",
      "144/144 [==============================] - 1s 7ms/step - loss: 0.0281 - accuracy: 0.9947 - val_loss: 0.6051 - val_accuracy: 0.8234\n",
      "Epoch 13/20\n",
      "144/144 [==============================] - 1s 7ms/step - loss: 0.0220 - accuracy: 0.9962 - val_loss: 0.6388 - val_accuracy: 0.8215\n",
      "Epoch 14/20\n",
      "144/144 [==============================] - 1s 7ms/step - loss: 0.0174 - accuracy: 0.9970 - val_loss: 0.6671 - val_accuracy: 0.8209\n",
      "Epoch 15/20\n",
      "144/144 [==============================] - 1s 7ms/step - loss: 0.0138 - accuracy: 0.9980 - val_loss: 0.6974 - val_accuracy: 0.8202\n",
      "Epoch 16/20\n",
      "144/144 [==============================] - 1s 7ms/step - loss: 0.0113 - accuracy: 0.9984 - val_loss: 0.7220 - val_accuracy: 0.8201\n",
      "Epoch 17/20\n",
      "144/144 [==============================] - 1s 7ms/step - loss: 0.0092 - accuracy: 0.9987 - val_loss: 0.7457 - val_accuracy: 0.8193\n",
      "Epoch 18/20\n",
      "144/144 [==============================] - 1s 7ms/step - loss: 0.0076 - accuracy: 0.9991 - val_loss: 0.7732 - val_accuracy: 0.8187\n",
      "Epoch 19/20\n",
      "144/144 [==============================] - 1s 7ms/step - loss: 0.0066 - accuracy: 0.9991 - val_loss: 0.7948 - val_accuracy: 0.8187\n",
      "Epoch 20/20\n",
      "144/144 [==============================] - 1s 7ms/step - loss: 0.0058 - accuracy: 0.9992 - val_loss: 0.8133 - val_accuracy: 0.8173\n"
     ]
    }
   ],
   "source": [
    "model.compile(optimizer='adam',\n",
    "              loss='binary_crossentropy',\n",
    "              metrics=['accuracy'])\n",
    "              \n",
    "epochs=20  # 몇 epoch를 훈련하면 좋을지 결과를 보면서 바꾸어 봅시다. \n",
    "\n",
    "history = model.fit(partial_x_train,\n",
    "                    partial_y_train,\n",
    "                    epochs=epochs,\n",
    "                    batch_size=512,\n",
    "                    validation_data=(x_val, y_val),\n",
    "                    verbose=1)"
   ]
  },
  {
   "cell_type": "code",
   "execution_count": 139,
   "id": "927157d1",
   "metadata": {},
   "outputs": [
    {
     "name": "stdout",
     "output_type": "stream",
     "text": [
      "1514/1514 - 2s - loss: 0.8732 - accuracy: 0.8118\n",
      "[0.8731599450111389, 0.8117809891700745]\n"
     ]
    }
   ],
   "source": [
    "results = model.evaluate(X_test_padded,  y_test, verbose=2)\n",
    "print(results)"
   ]
  },
  {
   "cell_type": "code",
   "execution_count": 140,
   "id": "d6e9c125",
   "metadata": {},
   "outputs": [],
   "source": [
    "history_dict = history.history\n",
    "import matplotlib.pyplot as plt\n",
    "\n",
    "acc = history_dict['accuracy']\n",
    "val_acc = history_dict['val_accuracy']\n",
    "loss = history_dict['loss']\n",
    "val_loss = history_dict['val_loss']\n",
    "\n",
    "epochs = range(1, len(acc) + 1)"
   ]
  },
  {
   "cell_type": "code",
   "execution_count": 141,
   "id": "1a6c2184",
   "metadata": {},
   "outputs": [
    {
     "data": {
      "image/png": "[encoded data removed]",
      "text/plain": [
       "<Figure size 432x288 with 1 Axes>"
      ]
     },
     "metadata": {
      "needs_background": "light"
     },
     "output_type": "display_data"
    },
    {
     "data": {
      "image/png": "[encoded data removed]",
      "text/plain": [
       "<Figure size 432x288 with 1 Axes>"
      ]
     },
     "metadata": {
      "needs_background": "light"
     },
     "output_type": "display_data"
    }
   ],
   "source": [
    "# \"bo\"는 \"파란색 점\"입니다\n",
    "plt.plot(epochs, loss, 'bo', label='Training loss')\n",
    "# b는 \"파란 실선\"입니다\n",
    "plt.plot(epochs, val_loss, 'b', label='Validation loss')\n",
    "plt.title('Training and validation loss')\n",
    "plt.xlabel('Epochs')\n",
    "plt.ylabel('Loss')\n",
    "plt.legend()\n",
    "\n",
    "plt.show()\n",
    "\n",
    "plt.clf()   # 그림을 초기화합니다\n",
    "\n",
    "plt.plot(epochs, acc, 'bo', label='Training acc')\n",
    "plt.plot(epochs, val_acc, 'b', label='Validation acc')\n",
    "plt.title('Training and validation accuracy')\n",
    "plt.xlabel('Epochs')\n",
    "plt.ylabel('Accuracy')\n",
    "plt.legend()\n",
    "\n",
    "plt.show()"
   ]
  },
  {
   "cell_type": "markdown",
   "id": "c2bf8c21",
   "metadata": {},
   "source": [
    "- CNN (with global pooling 1D): \n",
    "    - Accuracy: 81.18% (better than above model)\n",
    "    - Reflection on the graph: \n",
    "        - Similar graph shown above"
   ]
  },
  {
   "cell_type": "markdown",
   "id": "15b4ab5e",
   "metadata": {},
   "source": [
    "#  한국어 Word2vec 의 적용"
   ]
  },
  {
   "cell_type": "code",
   "execution_count": 146,
   "id": "2d0392b3",
   "metadata": {},
   "outputs": [],
   "source": [
    "from gensim.models.keyedvectors import Word2VecKeyedVectors"
   ]
  },
  {
   "cell_type": "code",
   "execution_count": 154,
   "id": "2a044447",
   "metadata": {},
   "outputs": [],
   "source": [
    "word2vec_file_path = '/aiffel/data/word2vec_ko.model'"
   ]
  },
  {
   "cell_type": "code",
   "execution_count": 179,
   "id": "6278e08b",
   "metadata": {},
   "outputs": [],
   "source": [
    "word_vectors = Word2VecKeyedVectors.load(word2vec_file_path, mmap = 'r')"
   ]
  },
  {
   "cell_type": "code",
   "execution_count": 180,
   "id": "2347930c",
   "metadata": {},
   "outputs": [
    {
     "data": {
      "text/plain": [
       "memmap([ 1.038851  , -1.1634965 ,  2.2386286 ,  0.8971453 , -2.088168  ,\n",
       "        -4.1942534 , -0.02519768, -0.69813883, -0.2908033 , -1.4651134 ],\n",
       "       dtype=float32)"
      ]
     },
     "execution_count": 180,
     "metadata": {},
     "output_type": "execute_result"
    }
   ],
   "source": [
    "word_vectors.wv['끝'][:10]"
   ]
  },
  {
   "cell_type": "code",
   "execution_count": 182,
   "id": "f008accd",
   "metadata": {},
   "outputs": [
    {
     "data": {
      "text/plain": [
       "100"
      ]
     },
     "execution_count": 182,
     "metadata": {},
     "output_type": "execute_result"
    }
   ],
   "source": [
    "word_vectors.vector_size"
   ]
  },
  {
   "cell_type": "code",
   "execution_count": 185,
   "id": "f10f9b49",
   "metadata": {},
   "outputs": [],
   "source": [
    "# Create an embedding matrix using the pre-trained Word2Vec model\n",
    "embedding_dim = word_vectors.vector_size\n",
    "embedding_matrix = np.zeros((vocab_size, embedding_dim))\n",
    "\n",
    "for word, i in tokenizer.word_index.items():\n",
    "    if i < max_words:\n",
    "        if word in word_vectors.wv:\n",
    "            embedding_matrix[i] = word_vectors.wv[word]"
   ]
  },
  {
   "cell_type": "code",
   "execution_count": 194,
   "id": "ad343839",
   "metadata": {},
   "outputs": [
    {
     "name": "stdout",
     "output_type": "stream",
     "text": [
      "Model: \"sequential_8\"\n",
      "_________________________________________________________________\n",
      "Layer (type)                 Output Shape              Param #   \n",
      "=================================================================\n",
      "embedding_10 (Embedding)     (None, 41, 100)           1000000   \n",
      "_________________________________________________________________\n",
      "conv1d_4 (Conv1D)            (None, 35, 16)            11216     \n",
      "_________________________________________________________________\n",
      "max_pooling1d_2 (MaxPooling1 (None, 7, 16)             0         \n",
      "_________________________________________________________________\n",
      "conv1d_5 (Conv1D)            (None, 1, 16)             1808      \n",
      "_________________________________________________________________\n",
      "global_max_pooling1d_3 (Glob (None, 16)                0         \n",
      "_________________________________________________________________\n",
      "dense_10 (Dense)             (None, 8)                 136       \n",
      "_________________________________________________________________\n",
      "dense_11 (Dense)             (None, 1)                 9         \n",
      "=================================================================\n",
      "Total params: 1,013,169\n",
      "Trainable params: 1,013,169\n",
      "Non-trainable params: 0\n",
      "_________________________________________________________________\n"
     ]
    }
   ],
   "source": [
    "from tensorflow.keras.initializers import Constant\n",
    "\n",
    "vocab_size = 10000    # 어휘 사전의 크기입니다(10,000개의 단어)\n",
    "word_vector_dim = 100  # 워드 벡터의 차원 수 \n",
    "\n",
    "# 모델 구성\n",
    "model = tf.keras.Sequential()\n",
    "model.add(tf.keras.layers.Embedding(vocab_size, \n",
    "                                 word_vector_dim, \n",
    "                                 embeddings_initializer=Constant(embedding_matrix),  # 카피한 임베딩을 여기서 활용\n",
    "                                 input_length=maxlen, \n",
    "                                 trainable=True))   # trainable을 True로 주면 Fine-tuning\n",
    "model.add(tf.keras.layers.Conv1D(16, 7, activation='relu'))\n",
    "model.add(tf.keras.layers.MaxPooling1D(5))\n",
    "model.add(tf.keras.layers.Conv1D(16, 7, activation='relu'))\n",
    "model.add(tf.keras.layers.GlobalMaxPooling1D())\n",
    "model.add(tf.keras.layers.Dense(8, activation='relu'))\n",
    "model.add(tf.keras.layers.Dense(1, activation='sigmoid')) \n",
    "\n",
    "model.summary()"
   ]
  },
  {
   "cell_type": "code",
   "execution_count": 195,
   "id": "ababcb87",
   "metadata": {},
   "outputs": [
    {
     "name": "stdout",
     "output_type": "stream",
     "text": [
      "Epoch 1/20\n",
      "WARNING:tensorflow:Model was constructed with shape (None, 41) for input KerasTensor(type_spec=TensorSpec(shape=(None, 41), dtype=tf.float32, name='embedding_10_input'), name='embedding_10_input', description=\"created by layer 'embedding_10_input'\"), but it was called on an input with incompatible shape (None, 100).\n",
      "WARNING:tensorflow:Model was constructed with shape (None, 41) for input KerasTensor(type_spec=TensorSpec(shape=(None, 41), dtype=tf.float32, name='embedding_10_input'), name='embedding_10_input', description=\"created by layer 'embedding_10_input'\"), but it was called on an input with incompatible shape (None, 100).\n",
      "143/144 [============================>.] - ETA: 0s - loss: 0.6797 - accuracy: 0.5579WARNING:tensorflow:Model was constructed with shape (None, 41) for input KerasTensor(type_spec=TensorSpec(shape=(None, 41), dtype=tf.float32, name='embedding_10_input'), name='embedding_10_input', description=\"created by layer 'embedding_10_input'\"), but it was called on an input with incompatible shape (None, 100).\n",
      "144/144 [==============================] - 2s 10ms/step - loss: 0.6793 - accuracy: 0.5589 - val_loss: 0.5881 - val_accuracy: 0.6924\n",
      "Epoch 2/20\n",
      "144/144 [==============================] - 1s 9ms/step - loss: 0.5279 - accuracy: 0.7395 - val_loss: 0.4956 - val_accuracy: 0.7613\n",
      "Epoch 3/20\n",
      "144/144 [==============================] - 1s 8ms/step - loss: 0.4488 - accuracy: 0.7921 - val_loss: 0.4467 - val_accuracy: 0.7925\n",
      "Epoch 4/20\n",
      "144/144 [==============================] - 1s 8ms/step - loss: 0.3988 - accuracy: 0.8210 - val_loss: 0.4237 - val_accuracy: 0.8087\n",
      "Epoch 5/20\n",
      "144/144 [==============================] - 1s 9ms/step - loss: 0.3647 - accuracy: 0.8396 - val_loss: 0.4065 - val_accuracy: 0.8180\n",
      "Epoch 6/20\n",
      "144/144 [==============================] - 1s 9ms/step - loss: 0.3375 - accuracy: 0.8542 - val_loss: 0.3992 - val_accuracy: 0.8204\n",
      "Epoch 7/20\n",
      "144/144 [==============================] - 1s 8ms/step - loss: 0.3150 - accuracy: 0.8663 - val_loss: 0.3964 - val_accuracy: 0.8236\n",
      "Epoch 8/20\n",
      "144/144 [==============================] - 1s 8ms/step - loss: 0.2947 - accuracy: 0.8773 - val_loss: 0.4035 - val_accuracy: 0.8245\n",
      "Epoch 9/20\n",
      "144/144 [==============================] - 1s 8ms/step - loss: 0.2768 - accuracy: 0.8866 - val_loss: 0.4020 - val_accuracy: 0.8269\n",
      "Epoch 10/20\n",
      "144/144 [==============================] - 1s 9ms/step - loss: 0.2615 - accuracy: 0.8940 - val_loss: 0.4087 - val_accuracy: 0.8261\n",
      "Epoch 11/20\n",
      "144/144 [==============================] - 1s 9ms/step - loss: 0.2449 - accuracy: 0.9024 - val_loss: 0.4244 - val_accuracy: 0.8237\n",
      "Epoch 12/20\n",
      "144/144 [==============================] - 1s 9ms/step - loss: 0.2322 - accuracy: 0.9080 - val_loss: 0.4325 - val_accuracy: 0.8232\n",
      "Epoch 13/20\n",
      "144/144 [==============================] - 1s 9ms/step - loss: 0.2151 - accuracy: 0.9172 - val_loss: 0.4461 - val_accuracy: 0.8239\n",
      "Epoch 14/20\n",
      "144/144 [==============================] - 1s 8ms/step - loss: 0.2054 - accuracy: 0.9208 - val_loss: 0.4686 - val_accuracy: 0.8237\n",
      "Epoch 15/20\n",
      "144/144 [==============================] - 1s 8ms/step - loss: 0.1895 - accuracy: 0.9304 - val_loss: 0.4841 - val_accuracy: 0.8224\n",
      "Epoch 16/20\n",
      "144/144 [==============================] - 1s 8ms/step - loss: 0.1773 - accuracy: 0.9350 - val_loss: 0.4935 - val_accuracy: 0.8225\n",
      "Epoch 17/20\n",
      "144/144 [==============================] - 1s 8ms/step - loss: 0.1660 - accuracy: 0.9406 - val_loss: 0.5236 - val_accuracy: 0.8207\n",
      "Epoch 18/20\n",
      "144/144 [==============================] - 1s 9ms/step - loss: 0.1553 - accuracy: 0.9453 - val_loss: 0.5524 - val_accuracy: 0.8174\n",
      "Epoch 19/20\n",
      "144/144 [==============================] - 1s 9ms/step - loss: 0.1451 - accuracy: 0.9498 - val_loss: 0.5576 - val_accuracy: 0.8173\n",
      "Epoch 20/20\n",
      "144/144 [==============================] - 1s 9ms/step - loss: 0.1357 - accuracy: 0.9537 - val_loss: 0.5969 - val_accuracy: 0.8156\n"
     ]
    }
   ],
   "source": [
    "# 학습의 진행\n",
    "model.compile(optimizer='adam',\n",
    "              loss='binary_crossentropy',\n",
    "              metrics=['accuracy'])\n",
    "              \n",
    "epochs=20  # 몇 epoch를 훈련하면 좋을지 결과를 보면서 바꾸어 봅시다. \n",
    "\n",
    "history = model.fit(partial_x_train,\n",
    "                    partial_y_train,\n",
    "                    epochs=epochs,\n",
    "                    batch_size=512,\n",
    "                    validation_data=(x_val, y_val),\n",
    "                    verbose=1)"
   ]
  },
  {
   "cell_type": "code",
   "execution_count": 198,
   "id": "4cfe0915",
   "metadata": {},
   "outputs": [
    {
     "name": "stdout",
     "output_type": "stream",
     "text": [
      "1514/1514 - 3s - loss: 0.6082 - accuracy: 0.8128\n",
      "[0.6082152128219604, 0.8127930164337158]\n"
     ]
    }
   ],
   "source": [
    "# 테스트셋을 통한 모델 평가\n",
    "results = model.evaluate(X_test_padded,  y_test, verbose=2)\n",
    "\n",
    "print(results)"
   ]
  },
  {
   "cell_type": "code",
   "execution_count": 199,
   "id": "e6e4e635",
   "metadata": {},
   "outputs": [
    {
     "data": {
      "image/png": "[encoded data removed]",
      "text/plain": [
       "<Figure size 432x288 with 1 Axes>"
      ]
     },
     "metadata": {
      "needs_background": "light"
     },
     "output_type": "display_data"
    },
    {
     "data": {
      "image/png": "[encoded data removed]",
      "text/plain": [
       "<Figure size 432x288 with 1 Axes>"
      ]
     },
     "metadata": {
      "needs_background": "light"
     },
     "output_type": "display_data"
    }
   ],
   "source": [
    "history_dict = history.history\n",
    "import matplotlib.pyplot as plt\n",
    "\n",
    "acc = history_dict['accuracy']\n",
    "val_acc = history_dict['val_accuracy']\n",
    "loss = history_dict['loss']\n",
    "val_loss = history_dict['val_loss']\n",
    "\n",
    "epochs = range(1, len(acc) + 1)\n",
    "\n",
    "# \"bo\"는 \"파란색 점\"입니다\n",
    "plt.plot(epochs, loss, 'bo', label='Training loss')\n",
    "# b는 \"파란 실선\"입니다\n",
    "plt.plot(epochs, val_loss, 'b', label='Validation loss')\n",
    "plt.title('Training and validation loss')\n",
    "plt.xlabel('Epochs')\n",
    "plt.ylabel('Loss')\n",
    "plt.legend()\n",
    "\n",
    "plt.show()\n",
    "\n",
    "plt.clf()   # 그림을 초기화합니다\n",
    "\n",
    "plt.plot(epochs, acc, 'bo', label='Training acc')\n",
    "plt.plot(epochs, val_acc, 'b', label='Validation acc')\n",
    "plt.title('Training and validation accuracy')\n",
    "plt.xlabel('Epochs')\n",
    "plt.ylabel('Accuracy')\n",
    "plt.legend()\n",
    "\n",
    "plt.show()"
   ]
  },
  {
   "cell_type": "markdown",
   "id": "8b2926c0",
   "metadata": {},
   "source": [
    "- CNN (with global pooling 1D) with pretrained corpus: \n",
    "    - Accuracy: 81.28% (slightly better than above model)"
   ]
  }
 ],
 "metadata": {
  "kernelspec": {
   "display_name": "Python 3 (ipykernel)",
   "language": "python",
   "name": "python3"
  },
  "language_info": {
   "codemirror_mode": {
    "name": "ipython",
    "version": 3
   },
   "file_extension": ".py",
   "mimetype": "text/x-python",
   "name": "python",
   "nbconvert_exporter": "python",
   "pygments_lexer": "ipython3",
   "version": "3.9.7"
  }
 },
 "nbformat": 4,
 "nbformat_minor": 5
}
